{
 "cells": [
  {
   "cell_type": "code",
   "execution_count": 1,
   "metadata": {},
   "outputs": [],
   "source": [
    "import pandas as pd\n",
    "import numpy as np\n",
    "\n",
    "import matplotlib\n",
    "import matplotlib.pyplot as plt\n",
    "from pandas.plotting import scatter_matrix\n",
    "%matplotlib inline\n",
    "\n",
    "import seaborn as sns\n",
    "sns.set(style=\"white\", color_codes=True)\n",
    "sns.set(font_scale=1.5)\n",
    "\n",
    "from sklearn.linear_model import LogisticRegression\n",
    "from sklearn.model_selection import train_test_split\n",
    "\n",
    "from sklearn.metrics import confusion_matrix\n",
    "from sklearn.metrics import classification_report\n",
    "from sklearn.metrics import accuracy_score\n",
    "from sklearn.metrics import precision_score\n",
    "from sklearn.metrics import recall_score\n",
    "from sklearn.metrics import f1_score\n",
    "from sklearn import metrics"
   ]
  },
  {
   "cell_type": "code",
   "execution_count": 2,
   "metadata": {},
   "outputs": [
    {
     "data": {
      "text/plain": [
       "(891, 12)"
      ]
     },
     "execution_count": 2,
     "metadata": {},
     "output_type": "execute_result"
    }
   ],
   "source": [
    "df_train = pd.read_csv(\"train.csv\")\n",
    "df_train.shape"
   ]
  },
  {
   "cell_type": "code",
   "execution_count": 3,
   "metadata": {},
   "outputs": [
    {
     "data": {
      "text/plain": [
       "0    549\n",
       "1    342\n",
       "Name: Survived, dtype: int64"
      ]
     },
     "execution_count": 3,
     "metadata": {},
     "output_type": "execute_result"
    }
   ],
   "source": [
    "df_train.Survived.value_counts()"
   ]
  },
  {
   "cell_type": "code",
   "execution_count": 4,
   "metadata": {},
   "outputs": [
    {
     "data": {
      "text/plain": [
       "male      577\n",
       "female    314\n",
       "Name: Sex, dtype: int64"
      ]
     },
     "execution_count": 4,
     "metadata": {},
     "output_type": "execute_result"
    }
   ],
   "source": [
    "df_train.Sex.value_counts()"
   ]
  },
  {
   "cell_type": "code",
   "execution_count": 5,
   "metadata": {},
   "outputs": [
    {
     "data": {
      "text/plain": [
       "S    644\n",
       "C    168\n",
       "Q     77\n",
       "Name: Embarked, dtype: int64"
      ]
     },
     "execution_count": 5,
     "metadata": {},
     "output_type": "execute_result"
    }
   ],
   "source": [
    "df_train.Embarked.value_counts()"
   ]
  },
  {
   "cell_type": "code",
   "execution_count": 6,
   "metadata": {},
   "outputs": [
    {
     "data": {
      "text/plain": [
       "PassengerId      0\n",
       "Survived         0\n",
       "Pclass           0\n",
       "Name             0\n",
       "Sex              0\n",
       "Age            177\n",
       "SibSp            0\n",
       "Parch            0\n",
       "Ticket           0\n",
       "Fare             0\n",
       "Cabin          687\n",
       "Embarked         2\n",
       "dtype: int64"
      ]
     },
     "execution_count": 6,
     "metadata": {},
     "output_type": "execute_result"
    }
   ],
   "source": [
    "df_train.isnull().sum()"
   ]
  },
  {
   "cell_type": "code",
   "execution_count": 7,
   "metadata": {},
   "outputs": [
    {
     "data": {
      "text/plain": [
       "(891, 12)"
      ]
     },
     "execution_count": 7,
     "metadata": {},
     "output_type": "execute_result"
    }
   ],
   "source": [
    "df_train.shape"
   ]
  },
  {
   "cell_type": "code",
   "execution_count": 8,
   "metadata": {},
   "outputs": [
    {
     "data": {
      "text/html": [
       "<div>\n",
       "<style scoped>\n",
       "    .dataframe tbody tr th:only-of-type {\n",
       "        vertical-align: middle;\n",
       "    }\n",
       "\n",
       "    .dataframe tbody tr th {\n",
       "        vertical-align: top;\n",
       "    }\n",
       "\n",
       "    .dataframe thead th {\n",
       "        text-align: right;\n",
       "    }\n",
       "</style>\n",
       "<table border=\"1\" class=\"dataframe\">\n",
       "  <thead>\n",
       "    <tr style=\"text-align: right;\">\n",
       "      <th></th>\n",
       "      <th>Survived</th>\n",
       "      <th>Pclass</th>\n",
       "      <th>Sex</th>\n",
       "      <th>Age</th>\n",
       "      <th>SibSp</th>\n",
       "      <th>Parch</th>\n",
       "      <th>Fare</th>\n",
       "      <th>Embarked</th>\n",
       "    </tr>\n",
       "  </thead>\n",
       "  <tbody>\n",
       "    <tr>\n",
       "      <th>0</th>\n",
       "      <td>0</td>\n",
       "      <td>3</td>\n",
       "      <td>male</td>\n",
       "      <td>22.0</td>\n",
       "      <td>1</td>\n",
       "      <td>0</td>\n",
       "      <td>7.2500</td>\n",
       "      <td>S</td>\n",
       "    </tr>\n",
       "    <tr>\n",
       "      <th>1</th>\n",
       "      <td>1</td>\n",
       "      <td>1</td>\n",
       "      <td>female</td>\n",
       "      <td>38.0</td>\n",
       "      <td>1</td>\n",
       "      <td>0</td>\n",
       "      <td>71.2833</td>\n",
       "      <td>C</td>\n",
       "    </tr>\n",
       "    <tr>\n",
       "      <th>2</th>\n",
       "      <td>1</td>\n",
       "      <td>3</td>\n",
       "      <td>female</td>\n",
       "      <td>26.0</td>\n",
       "      <td>0</td>\n",
       "      <td>0</td>\n",
       "      <td>7.9250</td>\n",
       "      <td>S</td>\n",
       "    </tr>\n",
       "    <tr>\n",
       "      <th>3</th>\n",
       "      <td>1</td>\n",
       "      <td>1</td>\n",
       "      <td>female</td>\n",
       "      <td>35.0</td>\n",
       "      <td>1</td>\n",
       "      <td>0</td>\n",
       "      <td>53.1000</td>\n",
       "      <td>S</td>\n",
       "    </tr>\n",
       "    <tr>\n",
       "      <th>4</th>\n",
       "      <td>0</td>\n",
       "      <td>3</td>\n",
       "      <td>male</td>\n",
       "      <td>35.0</td>\n",
       "      <td>0</td>\n",
       "      <td>0</td>\n",
       "      <td>8.0500</td>\n",
       "      <td>S</td>\n",
       "    </tr>\n",
       "  </tbody>\n",
       "</table>\n",
       "</div>"
      ],
      "text/plain": [
       "   Survived  Pclass     Sex   Age  SibSp  Parch     Fare Embarked\n",
       "0         0       3    male  22.0      1      0   7.2500        S\n",
       "1         1       1  female  38.0      1      0  71.2833        C\n",
       "2         1       3  female  26.0      0      0   7.9250        S\n",
       "3         1       1  female  35.0      1      0  53.1000        S\n",
       "4         0       3    male  35.0      0      0   8.0500        S"
      ]
     },
     "execution_count": 8,
     "metadata": {},
     "output_type": "execute_result"
    }
   ],
   "source": [
    "df_train = df_train.drop(['PassengerId', 'Name', 'Ticket', 'Cabin'], axis=1)\n",
    "df_train.head()"
   ]
  },
  {
   "cell_type": "code",
   "execution_count": 12,
   "metadata": {},
   "outputs": [],
   "source": [
    "def age_approx(cols):\n",
    "    Age = cols[0]\n",
    "    Pclass = cols[1]\n",
    "\n",
    "    if pd.isnull(Age):\n",
    "        if Pclass == 1:\n",
    "            return 37\n",
    "        elif Pclass == 2:\n",
    "            return 29\n",
    "        else:\n",
    "            return 24\n",
    "        \n",
    "    else:\n",
    "        return Age"
   ]
  },
  {
   "cell_type": "code",
   "execution_count": 13,
   "metadata": {},
   "outputs": [
    {
     "data": {
      "text/html": [
       "<div>\n",
       "<style scoped>\n",
       "    .dataframe tbody tr th:only-of-type {\n",
       "        vertical-align: middle;\n",
       "    }\n",
       "\n",
       "    .dataframe tbody tr th {\n",
       "        vertical-align: top;\n",
       "    }\n",
       "\n",
       "    .dataframe thead th {\n",
       "        text-align: right;\n",
       "    }\n",
       "</style>\n",
       "<table border=\"1\" class=\"dataframe\">\n",
       "  <thead>\n",
       "    <tr style=\"text-align: right;\">\n",
       "      <th></th>\n",
       "      <th>Survived</th>\n",
       "      <th>Age</th>\n",
       "      <th>SibSp</th>\n",
       "      <th>Parch</th>\n",
       "      <th>Fare</th>\n",
       "    </tr>\n",
       "    <tr>\n",
       "      <th>Pclass</th>\n",
       "      <th></th>\n",
       "      <th></th>\n",
       "      <th></th>\n",
       "      <th></th>\n",
       "      <th></th>\n",
       "    </tr>\n",
       "  </thead>\n",
       "  <tbody>\n",
       "    <tr>\n",
       "      <th>1</th>\n",
       "      <td>0.629630</td>\n",
       "      <td>38.233441</td>\n",
       "      <td>0.416667</td>\n",
       "      <td>0.356481</td>\n",
       "      <td>84.154687</td>\n",
       "    </tr>\n",
       "    <tr>\n",
       "      <th>2</th>\n",
       "      <td>0.472826</td>\n",
       "      <td>29.877630</td>\n",
       "      <td>0.402174</td>\n",
       "      <td>0.380435</td>\n",
       "      <td>20.662183</td>\n",
       "    </tr>\n",
       "    <tr>\n",
       "      <th>3</th>\n",
       "      <td>0.242363</td>\n",
       "      <td>25.140620</td>\n",
       "      <td>0.615071</td>\n",
       "      <td>0.393075</td>\n",
       "      <td>13.675550</td>\n",
       "    </tr>\n",
       "  </tbody>\n",
       "</table>\n",
       "</div>"
      ],
      "text/plain": [
       "        Survived        Age     SibSp     Parch       Fare\n",
       "Pclass                                                    \n",
       "1       0.629630  38.233441  0.416667  0.356481  84.154687\n",
       "2       0.472826  29.877630  0.402174  0.380435  20.662183\n",
       "3       0.242363  25.140620  0.615071  0.393075  13.675550"
      ]
     },
     "execution_count": 13,
     "metadata": {},
     "output_type": "execute_result"
    }
   ],
   "source": [
    "df_train.groupby(['Pclass']).mean()"
   ]
  },
  {
   "cell_type": "code",
   "execution_count": 14,
   "metadata": {},
   "outputs": [],
   "source": [
    "df_train['Age'] = df_train[['Age', 'Pclass']].apply(age_approx, axis=1)"
   ]
  },
  {
   "cell_type": "code",
   "execution_count": 15,
   "metadata": {},
   "outputs": [
    {
     "data": {
      "text/plain": [
       "Survived    0\n",
       "Pclass      0\n",
       "Sex         0\n",
       "Age         0\n",
       "SibSp       0\n",
       "Parch       0\n",
       "Fare        0\n",
       "Embarked    2\n",
       "dtype: int64"
      ]
     },
     "execution_count": 15,
     "metadata": {},
     "output_type": "execute_result"
    }
   ],
   "source": [
    "df_train.isnull().sum()"
   ]
  },
  {
   "cell_type": "code",
   "execution_count": 16,
   "metadata": {},
   "outputs": [
    {
     "data": {
      "text/plain": [
       "Survived    0\n",
       "Pclass      0\n",
       "Sex         0\n",
       "Age         0\n",
       "SibSp       0\n",
       "Parch       0\n",
       "Fare        0\n",
       "Embarked    0\n",
       "dtype: int64"
      ]
     },
     "execution_count": 16,
     "metadata": {},
     "output_type": "execute_result"
    }
   ],
   "source": [
    "df_train.dropna(inplace=True)\n",
    "df_train.isnull().sum()"
   ]
  },
  {
   "cell_type": "code",
   "execution_count": 17,
   "metadata": {},
   "outputs": [
    {
     "data": {
      "text/plain": [
       "Survived      int64\n",
       "Pclass        int64\n",
       "Sex          object\n",
       "Age         float64\n",
       "SibSp         int64\n",
       "Parch         int64\n",
       "Fare        float64\n",
       "Embarked     object\n",
       "dtype: object"
      ]
     },
     "execution_count": 17,
     "metadata": {},
     "output_type": "execute_result"
    }
   ],
   "source": [
    "df_train.dtypes"
   ]
  },
  {
   "cell_type": "code",
   "execution_count": 18,
   "metadata": {},
   "outputs": [],
   "source": [
    "df_train_dummied = pd.get_dummies(df_train, columns=['Sex'])"
   ]
  },
  {
   "cell_type": "code",
   "execution_count": 19,
   "metadata": {},
   "outputs": [],
   "source": [
    "df_train_dummied = pd.get_dummies(df_train_dummied,columns=[\"Embarked\"])"
   ]
  },
  {
   "cell_type": "code",
   "execution_count": 20,
   "metadata": {},
   "outputs": [
    {
     "data": {
      "text/html": [
       "<div>\n",
       "<style scoped>\n",
       "    .dataframe tbody tr th:only-of-type {\n",
       "        vertical-align: middle;\n",
       "    }\n",
       "\n",
       "    .dataframe tbody tr th {\n",
       "        vertical-align: top;\n",
       "    }\n",
       "\n",
       "    .dataframe thead th {\n",
       "        text-align: right;\n",
       "    }\n",
       "</style>\n",
       "<table border=\"1\" class=\"dataframe\">\n",
       "  <thead>\n",
       "    <tr style=\"text-align: right;\">\n",
       "      <th></th>\n",
       "      <th>Survived</th>\n",
       "      <th>Pclass</th>\n",
       "      <th>Age</th>\n",
       "      <th>SibSp</th>\n",
       "      <th>Parch</th>\n",
       "      <th>Fare</th>\n",
       "      <th>Sex_female</th>\n",
       "      <th>Sex_male</th>\n",
       "      <th>Embarked_C</th>\n",
       "      <th>Embarked_Q</th>\n",
       "      <th>Embarked_S</th>\n",
       "    </tr>\n",
       "  </thead>\n",
       "  <tbody>\n",
       "    <tr>\n",
       "      <th>0</th>\n",
       "      <td>0</td>\n",
       "      <td>3</td>\n",
       "      <td>22.0</td>\n",
       "      <td>1</td>\n",
       "      <td>0</td>\n",
       "      <td>7.2500</td>\n",
       "      <td>0</td>\n",
       "      <td>1</td>\n",
       "      <td>0</td>\n",
       "      <td>0</td>\n",
       "      <td>1</td>\n",
       "    </tr>\n",
       "    <tr>\n",
       "      <th>1</th>\n",
       "      <td>1</td>\n",
       "      <td>1</td>\n",
       "      <td>38.0</td>\n",
       "      <td>1</td>\n",
       "      <td>0</td>\n",
       "      <td>71.2833</td>\n",
       "      <td>1</td>\n",
       "      <td>0</td>\n",
       "      <td>1</td>\n",
       "      <td>0</td>\n",
       "      <td>0</td>\n",
       "    </tr>\n",
       "    <tr>\n",
       "      <th>2</th>\n",
       "      <td>1</td>\n",
       "      <td>3</td>\n",
       "      <td>26.0</td>\n",
       "      <td>0</td>\n",
       "      <td>0</td>\n",
       "      <td>7.9250</td>\n",
       "      <td>1</td>\n",
       "      <td>0</td>\n",
       "      <td>0</td>\n",
       "      <td>0</td>\n",
       "      <td>1</td>\n",
       "    </tr>\n",
       "    <tr>\n",
       "      <th>3</th>\n",
       "      <td>1</td>\n",
       "      <td>1</td>\n",
       "      <td>35.0</td>\n",
       "      <td>1</td>\n",
       "      <td>0</td>\n",
       "      <td>53.1000</td>\n",
       "      <td>1</td>\n",
       "      <td>0</td>\n",
       "      <td>0</td>\n",
       "      <td>0</td>\n",
       "      <td>1</td>\n",
       "    </tr>\n",
       "    <tr>\n",
       "      <th>4</th>\n",
       "      <td>0</td>\n",
       "      <td>3</td>\n",
       "      <td>35.0</td>\n",
       "      <td>0</td>\n",
       "      <td>0</td>\n",
       "      <td>8.0500</td>\n",
       "      <td>0</td>\n",
       "      <td>1</td>\n",
       "      <td>0</td>\n",
       "      <td>0</td>\n",
       "      <td>1</td>\n",
       "    </tr>\n",
       "  </tbody>\n",
       "</table>\n",
       "</div>"
      ],
      "text/plain": [
       "   Survived  Pclass   Age  SibSp  Parch     Fare  Sex_female  Sex_male  \\\n",
       "0         0       3  22.0      1      0   7.2500           0         1   \n",
       "1         1       1  38.0      1      0  71.2833           1         0   \n",
       "2         1       3  26.0      0      0   7.9250           1         0   \n",
       "3         1       1  35.0      1      0  53.1000           1         0   \n",
       "4         0       3  35.0      0      0   8.0500           0         1   \n",
       "\n",
       "   Embarked_C  Embarked_Q  Embarked_S  \n",
       "0           0           0           1  \n",
       "1           1           0           0  \n",
       "2           0           0           1  \n",
       "3           0           0           1  \n",
       "4           0           0           1  "
      ]
     },
     "execution_count": 20,
     "metadata": {},
     "output_type": "execute_result"
    }
   ],
   "source": [
    "df_train_dummied.head()"
   ]
  },
  {
   "cell_type": "code",
   "execution_count": 21,
   "metadata": {},
   "outputs": [
    {
     "data": {
      "text/plain": [
       "<AxesSubplot:>"
      ]
     },
     "execution_count": 21,
     "metadata": {},
     "output_type": "execute_result"
    },
    {
     "data": {
      "image/png": "[encoded data removed]",
      "text/plain": [
       "<Figure size 432x288 with 2 Axes>"
      ]
     },
     "metadata": {},
     "output_type": "display_data"
    }
   ],
   "source": [
    "plt.figure(figsize=(6,4))\n",
    "sns.heatmap(df_train_dummied.corr())"
   ]
  },
  {
   "cell_type": "code",
   "execution_count": 22,
   "metadata": {},
   "outputs": [],
   "source": [
    "used_features = [\"Pclass\", \"Age\", \"SibSp\", \"Parch\", \"Sex_female\", \"Sex_male\", \"Embarked_C\", \"Embarked_Q\", \"Embarked_S\" ]\n",
    "\n",
    "X = df_train_dummied[used_features].values\n",
    "y = df_train_dummied['Survived']"
   ]
  },
  {
   "cell_type": "code",
   "execution_count": 24,
   "metadata": {},
   "outputs": [],
   "source": [
    "X_train, X_test, y_train, y_test = train_test_split(X, y, test_size=0.3, random_state=1)"
   ]
  },
  {
   "cell_type": "code",
   "execution_count": 25,
   "metadata": {},
   "outputs": [
    {
     "name": "stdout",
     "output_type": "stream",
     "text": [
      "(622, 9)\n",
      "(267, 9)\n",
      "(622,)\n",
      "(267,)\n"
     ]
    }
   ],
   "source": [
    "print(X_train.shape)\n",
    "print(X_test.shape)\n",
    "print(y_train.shape)\n",
    "print(y_test.shape)"
   ]
  },
  {
   "cell_type": "code",
   "execution_count": 26,
   "metadata": {},
   "outputs": [],
   "source": [
    "LogReg = LogisticRegression()"
   ]
  },
  {
   "cell_type": "code",
   "execution_count": 27,
   "metadata": {},
   "outputs": [
    {
     "data": {
      "text/plain": [
       "LogisticRegression()"
      ]
     },
     "execution_count": 27,
     "metadata": {},
     "output_type": "execute_result"
    }
   ],
   "source": [
    "LogReg.fit(X_train, y_train)"
   ]
  },
  {
   "cell_type": "code",
   "execution_count": 28,
   "metadata": {},
   "outputs": [],
   "source": [
    "y_pred = LogReg.predict(X_test)"
   ]
  },
  {
   "cell_type": "code",
   "execution_count": 29,
   "metadata": {},
   "outputs": [
    {
     "data": {
      "text/plain": [
       "array([[143,  23],\n",
       "       [ 22,  79]], dtype=int64)"
      ]
     },
     "execution_count": 29,
     "metadata": {},
     "output_type": "execute_result"
    }
   ],
   "source": [
    "metrics.confusion_matrix(y_test, y_pred)"
   ]
  },
  {
   "cell_type": "code",
   "execution_count": 30,
   "metadata": {},
   "outputs": [
    {
     "data": {
      "text/plain": [
       "0.8314606741573034"
      ]
     },
     "execution_count": 30,
     "metadata": {},
     "output_type": "execute_result"
    }
   ],
   "source": [
    "metrics.accuracy_score(y_test, y_pred)"
   ]
  },
  {
   "cell_type": "code",
   "execution_count": 31,
   "metadata": {},
   "outputs": [
    {
     "data": {
      "text/plain": [
       "267"
      ]
     },
     "execution_count": 31,
     "metadata": {},
     "output_type": "execute_result"
    }
   ],
   "source": [
    "len(X_test)"
   ]
  },
  {
   "cell_type": "code",
   "execution_count": 32,
   "metadata": {},
   "outputs": [
    {
     "name": "stdout",
     "output_type": "stream",
     "text": [
      "              precision    recall  f1-score   support\n",
      "\n",
      "           0       0.87      0.86      0.86       166\n",
      "           1       0.77      0.78      0.78       101\n",
      "\n",
      "    accuracy                           0.83       267\n",
      "   macro avg       0.82      0.82      0.82       267\n",
      "weighted avg       0.83      0.83      0.83       267\n",
      "\n"
     ]
    }
   ],
   "source": [
    "print(classification_report(y_test, y_pred))"
   ]
  },
  {
   "cell_type": "code",
   "execution_count": 33,
   "metadata": {},
   "outputs": [
    {
     "data": {
      "text/plain": [
       "array([[-1.0417637 , -0.03988722, -0.24209473, -0.040671  ,  1.19325293,\n",
       "        -1.19486922,  0.34889847, -0.03763003, -0.31288474]])"
      ]
     },
     "execution_count": 33,
     "metadata": {},
     "output_type": "execute_result"
    }
   ],
   "source": [
    "LogReg.coef_"
   ]
  },
  {
   "cell_type": "code",
   "execution_count": 34,
   "metadata": {},
   "outputs": [
    {
     "data": {
      "text/plain": [
       "array([3.65703961])"
      ]
     },
     "execution_count": 34,
     "metadata": {},
     "output_type": "execute_result"
    }
   ],
   "source": [
    "LogReg.intercept_"
   ]
  },
  {
   "cell_type": "code",
   "execution_count": 35,
   "metadata": {},
   "outputs": [
    {
     "data": {
      "text/plain": [
       "Index(['Pclass', 'Age', 'SibSp', 'Parch', 'Sex_female', 'Sex_male',\n",
       "       'Embarked_C', 'Embarked_Q', 'Embarked_S'],\n",
       "      dtype='object')"
      ]
     },
     "execution_count": 35,
     "metadata": {},
     "output_type": "execute_result"
    }
   ],
   "source": [
    "df_train_dummied[used_features].columns"
   ]
  },
  {
   "cell_type": "code",
   "execution_count": 36,
   "metadata": {},
   "outputs": [
    {
     "data": {
      "text/plain": [
       "array([[0.26542878, 0.73457122],\n",
       "       [0.39679237, 0.60320763],\n",
       "       [0.94737941, 0.05262059],\n",
       "       [0.25938339, 0.74061661],\n",
       "       [0.94407754, 0.05592246],\n",
       "       [0.13499511, 0.86500489],\n",
       "       [0.33311125, 0.66688875],\n",
       "       [0.51908164, 0.48091836],\n",
       "       [0.78160954, 0.21839046],\n",
       "       [0.40732158, 0.59267842],\n",
       "       [0.7400807 , 0.2599193 ],\n",
       "       [0.21160816, 0.78839184],\n",
       "       [0.74856456, 0.25143544],\n",
       "       [0.14560812, 0.85439188],\n",
       "       [0.86454037, 0.13545963],\n",
       "       [0.36944516, 0.63055484],\n",
       "       [0.89369867, 0.10630133],\n",
       "       [0.29767551, 0.70232449],\n",
       "       [0.17636522, 0.82363478],\n",
       "       [0.39882383, 0.60117617],\n",
       "       [0.90485706, 0.09514294],\n",
       "       [0.55268564, 0.44731436],\n",
       "       [0.86431483, 0.13568517],\n",
       "       [0.93741383, 0.06258617],\n",
       "       [0.51637091, 0.48362909],\n",
       "       [0.51592224, 0.48407776],\n",
       "       [0.03916068, 0.96083932],\n",
       "       [0.86914402, 0.13085598],\n",
       "       [0.89801797, 0.10198203],\n",
       "       [0.32517759, 0.67482241],\n",
       "       [0.38821458, 0.61178542],\n",
       "       [0.40775536, 0.59224464],\n",
       "       [0.15498537, 0.84501463],\n",
       "       [0.41451636, 0.58548364],\n",
       "       [0.5910494 , 0.4089506 ],\n",
       "       [0.16572286, 0.83427714],\n",
       "       [0.65707518, 0.34292482],\n",
       "       [0.87361409, 0.12638591],\n",
       "       [0.24341503, 0.75658497],\n",
       "       [0.57581436, 0.42418564],\n",
       "       [0.43688356, 0.56311644],\n",
       "       [0.91135125, 0.08864875],\n",
       "       [0.31618913, 0.68381087],\n",
       "       [0.87361409, 0.12638591],\n",
       "       [0.79664984, 0.20335016],\n",
       "       [0.23550393, 0.76449607],\n",
       "       [0.17064577, 0.82935423],\n",
       "       [0.81605477, 0.18394523],\n",
       "       [0.06078012, 0.93921988],\n",
       "       [0.92355931, 0.07644069],\n",
       "       [0.87361409, 0.12638591],\n",
       "       [0.42715262, 0.57284738],\n",
       "       [0.88379799, 0.11620201],\n",
       "       [0.09120354, 0.90879646],\n",
       "       [0.74856456, 0.25143544],\n",
       "       [0.0706036 , 0.9293964 ],\n",
       "       [0.77738987, 0.22261013],\n",
       "       [0.9515268 , 0.0484732 ],\n",
       "       [0.7009127 , 0.2990873 ],\n",
       "       [0.93704163, 0.06295837],\n",
       "       [0.81534882, 0.18465118],\n",
       "       [0.85980088, 0.14019912],\n",
       "       [0.5910494 , 0.4089506 ],\n",
       "       [0.87361409, 0.12638591],\n",
       "       [0.42715262, 0.57284738],\n",
       "       [0.23614461, 0.76385539],\n",
       "       [0.87361409, 0.12638591],\n",
       "       [0.91150661, 0.08849339],\n",
       "       [0.84469943, 0.15530057],\n",
       "       [0.05433783, 0.94566217],\n",
       "       [0.86413168, 0.13586832],\n",
       "       [0.05642425, 0.94357575],\n",
       "       [0.65259054, 0.34740946],\n",
       "       [0.85980088, 0.14019912],\n",
       "       [0.31461801, 0.68538199],\n",
       "       [0.13499511, 0.86500489],\n",
       "       [0.83997527, 0.16002473],\n",
       "       [0.92375473, 0.07624527],\n",
       "       [0.82553122, 0.17446878],\n",
       "       [0.83334266, 0.16665734],\n",
       "       [0.83997527, 0.16002473],\n",
       "       [0.86454037, 0.13545963],\n",
       "       [0.03916068, 0.96083932],\n",
       "       [0.05984628, 0.94015372],\n",
       "       [0.76327976, 0.23672024],\n",
       "       [0.61962737, 0.38037263],\n",
       "       [0.4388357 , 0.5611643 ],\n",
       "       [0.42734441, 0.57265559],\n",
       "       [0.87361409, 0.12638591],\n",
       "       [0.36944516, 0.63055484],\n",
       "       [0.89776388, 0.10223612],\n",
       "       [0.32517759, 0.67482241],\n",
       "       [0.93425957, 0.06574043],\n",
       "       [0.78100207, 0.21899793],\n",
       "       [0.24664127, 0.75335873],\n",
       "       [0.83918326, 0.16081674],\n",
       "       [0.22922709, 0.77077291],\n",
       "       [0.27453648, 0.72546352],\n",
       "       [0.24664127, 0.75335873],\n",
       "       [0.21464489, 0.78535511],\n",
       "       [0.84990583, 0.15009417],\n",
       "       [0.34220672, 0.65779328],\n",
       "       [0.60567974, 0.39432026],\n",
       "       [0.85492339, 0.14507661],\n",
       "       [0.85492339, 0.14507661],\n",
       "       [0.905874  , 0.094126  ],\n",
       "       [0.13658263, 0.86341737],\n",
       "       [0.84990583, 0.15009417],\n",
       "       [0.76705232, 0.23294768],\n",
       "       [0.81605477, 0.18394523],\n",
       "       [0.63888148, 0.36111852],\n",
       "       [0.74856456, 0.25143544],\n",
       "       [0.78100207, 0.21899793],\n",
       "       [0.18609421, 0.81390579],\n",
       "       [0.35993971, 0.64006029],\n",
       "       [0.08613881, 0.91386119],\n",
       "       [0.91565401, 0.08434599],\n",
       "       [0.40732158, 0.59267842],\n",
       "       [0.06406786, 0.93593214],\n",
       "       [0.79088935, 0.20911065],\n",
       "       [0.87795291, 0.12204709],\n",
       "       [0.20593523, 0.79406477],\n",
       "       [0.32517759, 0.67482241],\n",
       "       [0.50233005, 0.49766995],\n",
       "       [0.20780969, 0.79219031],\n",
       "       [0.89214022, 0.10785978],\n",
       "       [0.44294477, 0.55705523],\n",
       "       [0.90951343, 0.09048657],\n",
       "       [0.88216286, 0.11783714],\n",
       "       [0.57740552, 0.42259448],\n",
       "       [0.44701749, 0.55298251],\n",
       "       [0.60567974, 0.39432026],\n",
       "       [0.87850075, 0.12149925],\n",
       "       [0.5910494 , 0.4089506 ],\n",
       "       [0.36944516, 0.63055484],\n",
       "       [0.07073414, 0.92926586],\n",
       "       [0.85980088, 0.14019912],\n",
       "       [0.9263281 , 0.0736719 ],\n",
       "       [0.87361409, 0.12638591],\n",
       "       [0.89020606, 0.10979394],\n",
       "       [0.85923386, 0.14076614],\n",
       "       [0.31521592, 0.68478408],\n",
       "       [0.92355931, 0.07644069],\n",
       "       [0.388873  , 0.611127  ],\n",
       "       [0.5910494 , 0.4089506 ],\n",
       "       [0.69229869, 0.30770131],\n",
       "       [0.17959054, 0.82040946],\n",
       "       [0.1069391 , 0.8930609 ],\n",
       "       [0.07881364, 0.92118636],\n",
       "       [0.92949811, 0.07050189],\n",
       "       [0.85687517, 0.14312483],\n",
       "       [0.93650276, 0.06349724],\n",
       "       [0.14226375, 0.85773625],\n",
       "       [0.84990583, 0.15009417],\n",
       "       [0.37920733, 0.62079267],\n",
       "       [0.36944516, 0.63055484],\n",
       "       [0.79011166, 0.20988834],\n",
       "       [0.37175012, 0.62824988],\n",
       "       [0.89020606, 0.10979394],\n",
       "       [0.87361409, 0.12638591],\n",
       "       [0.50233005, 0.49766995],\n",
       "       [0.7704109 , 0.2295891 ],\n",
       "       [0.57740552, 0.42259448],\n",
       "       [0.86990723, 0.13009277],\n",
       "       [0.87309469, 0.12690531],\n",
       "       [0.83399382, 0.16600618],\n",
       "       [0.13690978, 0.86309022],\n",
       "       [0.05944746, 0.94055254],\n",
       "       [0.77834761, 0.22165239],\n",
       "       [0.23628601, 0.76371399],\n",
       "       [0.84990583, 0.15009417],\n",
       "       [0.89891941, 0.10108059],\n",
       "       [0.83997527, 0.16002473],\n",
       "       [0.87361409, 0.12638591],\n",
       "       [0.67982804, 0.32017196],\n",
       "       [0.29074134, 0.70925866],\n",
       "       [0.86454037, 0.13545963],\n",
       "       [0.70920686, 0.29079314],\n",
       "       [0.87361409, 0.12638591],\n",
       "       [0.84990583, 0.15009417],\n",
       "       [0.83997527, 0.16002473],\n",
       "       [0.87361409, 0.12638591],\n",
       "       [0.65146742, 0.34853258],\n",
       "       [0.93234306, 0.06765694],\n",
       "       [0.32517759, 0.67482241],\n",
       "       [0.826823  , 0.173177  ],\n",
       "       [0.38036875, 0.61963125],\n",
       "       [0.58137441, 0.41862559],\n",
       "       [0.22805947, 0.77194053],\n",
       "       [0.90485706, 0.09514294],\n",
       "       [0.75564209, 0.24435791],\n",
       "       [0.71697338, 0.28302662],\n",
       "       [0.86454037, 0.13545963],\n",
       "       [0.76378015, 0.23621985],\n",
       "       [0.93671384, 0.06328616],\n",
       "       [0.74767968, 0.25232032],\n",
       "       [0.89866731, 0.10133269],\n",
       "       [0.28957853, 0.71042147],\n",
       "       [0.5910494 , 0.4089506 ],\n",
       "       [0.06559289, 0.93440711],\n",
       "       [0.70191854, 0.29808146],\n",
       "       [0.1829351 , 0.8170649 ],\n",
       "       [0.77833672, 0.22166328],\n",
       "       [0.54732408, 0.45267592],\n",
       "       [0.04751964, 0.95248036],\n",
       "       [0.89020606, 0.10979394],\n",
       "       [0.87579976, 0.12420024],\n",
       "       [0.32286106, 0.67713894],\n",
       "       [0.81015353, 0.18984647],\n",
       "       [0.08795094, 0.91204906],\n",
       "       [0.83997527, 0.16002473],\n",
       "       [0.74098299, 0.25901701],\n",
       "       [0.78100207, 0.21899793],\n",
       "       [0.76705232, 0.23294768],\n",
       "       [0.30805238, 0.69194762],\n",
       "       [0.19498263, 0.80501737],\n",
       "       [0.75599728, 0.24400272],\n",
       "       [0.19276403, 0.80723597],\n",
       "       [0.91467164, 0.08532836],\n",
       "       [0.69207458, 0.30792542],\n",
       "       [0.86990723, 0.13009277],\n",
       "       [0.49776161, 0.50223839],\n",
       "       [0.67004719, 0.32995281],\n",
       "       [0.22144528, 0.77855472],\n",
       "       [0.24327072, 0.75672928],\n",
       "       [0.86454037, 0.13545963],\n",
       "       [0.57365564, 0.42634436],\n",
       "       [0.83997527, 0.16002473],\n",
       "       [0.7877478 , 0.2122522 ],\n",
       "       [0.74871205, 0.25128795],\n",
       "       [0.38036875, 0.61963125],\n",
       "       [0.29431634, 0.70568366],\n",
       "       [0.4672005 , 0.5327995 ],\n",
       "       [0.83997527, 0.16002473],\n",
       "       [0.89776388, 0.10223612],\n",
       "       [0.89047664, 0.10952336],\n",
       "       [0.87361409, 0.12638591],\n",
       "       [0.79842963, 0.20157037],\n",
       "       [0.35290088, 0.64709912],\n",
       "       [0.87795291, 0.12204709],\n",
       "       [0.29767551, 0.70232449],\n",
       "       [0.83997527, 0.16002473],\n",
       "       [0.84990583, 0.15009417],\n",
       "       [0.67065962, 0.32934038],\n",
       "       [0.51681008, 0.48318992],\n",
       "       [0.0986313 , 0.9013687 ],\n",
       "       [0.13311649, 0.86688351],\n",
       "       [0.79754629, 0.20245371],\n",
       "       [0.69148366, 0.30851634],\n",
       "       [0.87391977, 0.12608023],\n",
       "       [0.24204245, 0.75795755],\n",
       "       [0.32517759, 0.67482241],\n",
       "       [0.39772911, 0.60227089],\n",
       "       [0.94112804, 0.05887196],\n",
       "       [0.10913655, 0.89086345],\n",
       "       [0.22556998, 0.77443002],\n",
       "       [0.88216286, 0.11783714],\n",
       "       [0.90485706, 0.09514294],\n",
       "       [0.03921971, 0.96078029],\n",
       "       [0.78100207, 0.21899793],\n",
       "       [0.20150324, 0.79849676],\n",
       "       [0.87405022, 0.12594978],\n",
       "       [0.65725177, 0.34274823],\n",
       "       [0.87361409, 0.12638591],\n",
       "       [0.29431634, 0.70568366],\n",
       "       [0.83997527, 0.16002473],\n",
       "       [0.91185597, 0.08814403]])"
      ]
     },
     "execution_count": 36,
     "metadata": {},
     "output_type": "execute_result"
    }
   ],
   "source": [
    "LogReg.predict_proba(X_test)"
   ]
  }
 ],
 "metadata": {
  "kernelspec": {
   "display_name": "Python 3.10.0 64-bit",
   "language": "python",
   "name": "python3"
  },
  "language_info": {
   "codemirror_mode": {
    "name": "ipython",
    "version": 3
   },
   "file_extension": ".py",
   "mimetype": "text/x-python",
   "name": "python",
   "nbconvert_exporter": "python",
   "pygments_lexer": "ipython3",
   "version": "3.10.0"
  },
  "orig_nbformat": 4,
  "vscode": {
   "interpreter": {
    "hash": "60bf66d7aa19a60189579b2ef6fcf1e8b0ddb86cd0366704f93f61ead7f73af0"
   }
  }
 },
 "nbformat": 4,
 "nbformat_minor": 2
}
